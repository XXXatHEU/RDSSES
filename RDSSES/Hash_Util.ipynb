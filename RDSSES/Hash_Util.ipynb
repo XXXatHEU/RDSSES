{
 "cells": [
  {
   "cell_type": "code",
   "execution_count": null,
   "id": "3bb39b52",
   "metadata": {},
   "outputs": [],
   "source": [
    "from charm.toolbox.pairinggroup import PairingGroup, G1,GT, ZR, pair as e\n",
    "from hashlib import sha256, md5,sha1,sha224\n",
    "from util1 import obj2bytes, read_word_as_bytes, bxor\n",
    "group =  PairingGroup('MNT159')\n",
    "#分别是H到H3函数简单实现\n",
    "def H(b):\n",
    "        return group.hash(sha256(b).hexdigest(), ZR)\n",
    "def H_0(b):\n",
    "        return md5(b).hexdigest()\n",
    "def H_1(b):\n",
    "        return sha256(b).hexdigest()\n",
    "def H_2(b):\n",
    "    return sha1(b).hexdigest()\n",
    "def H_3(b):\n",
    "    return sha224(b).hexdigest()\n",
    "def get_key (dict, value):\n",
    "    return [k for k, v in dict.items() if v == value]\n",
    "\n"
   ]
  }
 ],
 "metadata": {
  "kernelspec": {
   "display_name": "Python 3 (ipykernel)",
   "language": "python",
   "name": "python3"
  },
  "language_info": {
   "codemirror_mode": {
    "name": "ipython",
    "version": 3
   },
   "file_extension": ".py",
   "mimetype": "text/x-python",
   "name": "python",
   "nbconvert_exporter": "python",
   "pygments_lexer": "ipython3",
   "version": "3.7.9"
  }
 },
 "nbformat": 4,
 "nbformat_minor": 5
}
